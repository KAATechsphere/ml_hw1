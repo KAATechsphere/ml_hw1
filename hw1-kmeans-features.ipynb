{
 "cells": [
  {
   "cell_type": "markdown",
   "metadata": {
    "deletable": true,
    "editable": true
   },
   "source": [
    "# Алгоритмы интеллектуальной обработки больших объемов данных\n",
    "## Домашнее задание №1 - Метод k-средних, предобработка признаков\n"
   ]
  },
  {
   "cell_type": "markdown",
   "metadata": {
    "deletable": true,
    "editable": true
   },
   "source": [
    "###### <hr\\>\n",
    "**Общая информация**\n",
    "\n",
    "**Срок сдачи:** 6 марта 2017, 06:00 <br\\>\n",
    "**Штраф за опоздание:** -2 балла после 06:00 6 марта, -4 балла после 06:00 13 марта, -6 баллов после 06:00 20 марта\n",
    "\n",
    "При отправлении ДЗ указывайте фамилию в названии файла<br\\>\n",
    "\n",
    "Используйте данный Ipython Notebook при оформлении домашнего задания.\n",
    "<hr\\>"
   ]
  },
  {
   "cell_type": "markdown",
   "metadata": {
    "deletable": true,
    "editable": true
   },
   "source": [
    "# Первое задание - указать фамилию в имени файла"
   ]
  },
  {
   "cell_type": "code",
   "execution_count": 3,
   "metadata": {
    "collapsed": true,
    "deletable": true,
    "editable": true
   },
   "outputs": [],
   "source": [
    "import pandas as pd\n",
    "import numpy as np\n",
    "import matplotlib.pyplot as plt\n",
    "\n",
    "%matplotlib inline\n",
    "\n",
    "plt.style.use('ggplot')\n",
    "plt.rcParams['figure.figsize'] = (12,5)"
   ]
  },
  {
   "cell_type": "markdown",
   "metadata": {
    "deletable": true,
    "editable": true
   },
   "source": [
    "# Пролог: Модуль sklearn\n",
    "На наших практических занятиях мы будем использовать [sklearn](http://scikit-learn.org/stable/index.html) (scikit-learn) - наиболее популярный модуль для работы с методами машинного обучения и анализа данных.\n",
    "\n",
    "Этот модуль регулярно обновляется, расширяется и сопровождается примерами использования тех или иных методов. Помимо самих алгоритмов (например k-средних или линейной регрессии) в нем есть множество вспомогательных функций по работе с данными."
   ]
  },
  {
   "cell_type": "markdown",
   "metadata": {
    "deletable": true,
    "editable": true
   },
   "source": [
    "# Туториал: Работа с различными типами признаков"
   ]
  },
  {
   "cell_type": "markdown",
   "metadata": {
    "deletable": true,
    "editable": true
   },
   "source": [
    "Вспомним какие типы признаков могут встретится при описании объектов исследования и как их представить в доступной для обработки компьтером форме"
   ]
  },
  {
   "cell_type": "markdown",
   "metadata": {
    "deletable": true,
    "editable": true
   },
   "source": [
    "Типы признаков мы будем рассматривать на примере довольно популярного набора данных [titanic](https://www.kaggle.com/c/titanic/download/train.csv) - информации о выживаемости пассажиров после известной трагедии корабля Titanic."
   ]
  },
  {
   "cell_type": "raw",
   "metadata": {
    "deletable": true,
    "editable": true
   },
   "source": [
    "ARIABLE DESCRIPTIONS:\n",
    "survival        Survival\n",
    "                (0 = No; 1 = Yes)\n",
    "pclass          Passenger Class\n",
    "                (1 = 1st; 2 = 2nd; 3 = 3rd)\n",
    "name            Name\n",
    "sex             Sex\n",
    "age             Age\n",
    "sibsp           Number of Siblings/Spouses Aboard\n",
    "parch           Number of Parents/Children Aboard\n",
    "ticket          Ticket Number\n",
    "fare            Passenger Fare\n",
    "cabin           Cabin\n",
    "embarked        Port of Embarkation\n",
    "                (C = Cherbourg; Q = Queenstown; S = Southampton)"
   ]
  },
  {
   "cell_type": "code",
   "execution_count": null,
   "metadata": {
    "collapsed": false,
    "deletable": true,
    "editable": true
   },
   "outputs": [],
   "source": [
    "df_titanic = pd.read_csv('train.csv', sep=',').dropna()\n",
    "df_titanic.head()"
   ]
  },
  {
   "cell_type": "markdown",
   "metadata": {
    "deletable": true,
    "editable": true
   },
   "source": [
    "## Бинарные признаки\n",
    "Это признаки с двумя возможными значениями\n",
    "* Пол (мужской, женский)\n",
    "* Выжил (да, нет)\n",
    "\n",
    "На вход в алгоритмы обычно подаются в виде значений `{0, 1}` (реже в виде `{-1, 1}`)"
   ]
  },
  {
   "cell_type": "code",
   "execution_count": null,
   "metadata": {
    "collapsed": false,
    "deletable": true,
    "editable": true
   },
   "outputs": [],
   "source": [
    "# Здесь все нормально\n",
    "df_titanic.Survived.value_counts()"
   ]
  },
  {
   "cell_type": "code",
   "execution_count": null,
   "metadata": {
    "collapsed": false,
    "deletable": true,
    "editable": true
   },
   "outputs": [],
   "source": [
    "# Тут стоит выполнить переобознаение\n",
    "df_titanic.Sex.value_counts()"
   ]
  },
  {
   "cell_type": "code",
   "execution_count": null,
   "metadata": {
    "collapsed": false,
    "deletable": true,
    "editable": true
   },
   "outputs": [],
   "source": [
    "# Например так\n",
    "df_titanic.Sex = df_titanic.Sex.replace({'male': 0, 'female': 1})\n",
    "df_titanic.Sex.value_counts()"
   ]
  },
  {
   "cell_type": "markdown",
   "metadata": {
    "deletable": true,
    "editable": true
   },
   "source": [
    "## Вещественные признаки\n",
    "\n",
    "* Возраст\n",
    "* Сумма, потраченная на билет\n",
    "* Количество родственников на борту\n",
    "\n",
    "Как правило остаются в том же виде или выполняется **нормализация** признаков, т.е. переход к одинаковой шкале, например:\n",
    "\n",
    "* $\\tilde{x} = \\frac{x - \\text{mean}(x)}{\\text{std}(x)}$\n",
    "* $\\tilde{x} = \\frac{x - \\text{min}(x)}{\\text{max}(x) - \\text{min}(x)}$"
   ]
  },
  {
   "cell_type": "markdown",
   "metadata": {
    "deletable": true,
    "editable": true
   },
   "source": [
    "## Категориальные признаки\n",
    "\n",
    "Принимают значения из *неупорядоченного* множества\n",
    "\n",
    "* Порт погрузки (C = Cherbourg; Q = Queenstown; S = Southampton)\n",
    "* Точка отправления (St Louis, MO; Montreal, PQ; .. }\n",
    "* Точка назначения (Chesterville, ON; Roseville, IL; .. }\n",
    "\n",
    "Обычно такие признаки кодируют с помощью так называемого One Hot Encoding: </br>\n",
    "для каждой категории создается бинарная маска-столбец, в которой стоит `1` если значение признака равно значению соответствующей категории категории.\n",
    "\n",
    "Например, для признака \"порт погрзки\" создается бинарная макска из трех стобцов для каждого из портов: С, Q, S<br/>\n",
    "Если пассажир заходил на кораблю в порту Southampton, то его признаковое описание будет соответственно: `[0, 0, 1]`"
   ]
  },
  {
   "cell_type": "code",
   "execution_count": null,
   "metadata": {
    "collapsed": false,
    "deletable": true,
    "editable": true
   },
   "outputs": [],
   "source": [
    "df_titanic.Embarked.head()"
   ]
  },
  {
   "cell_type": "code",
   "execution_count": null,
   "metadata": {
    "collapsed": false,
    "deletable": true,
    "editable": true
   },
   "outputs": [],
   "source": [
    "# Сделать в python это можно несколькими способами:\n",
    "\n",
    "# 1: Через pandas (не очень рекомендуется)\n",
    "emb = pd.get_dummies(df_titanic.Embarked, prefix='Embarked', prefix_sep='=')\n",
    "emb.head()"
   ]
  },
  {
   "cell_type": "code",
   "execution_count": null,
   "metadata": {
    "collapsed": false,
    "deletable": true,
    "editable": true
   },
   "outputs": [],
   "source": [
    "# 2: Функционал sklearn\n",
    "from sklearn.preprocessing import OneHotEncoder\n",
    "\n",
    "encoder = OneHotEncoder(sparse=False)\n",
    "\n",
    "emb = df_titanic.loc[:, ['Embarked']].replace({'C': 0, 'Q': 1, 'S': 2}).values\n",
    "emb_enc = encoder.fit_transform(emb)\n",
    "emb_enc[:5]"
   ]
  },
  {
   "cell_type": "markdown",
   "metadata": {
    "deletable": true,
    "editable": true
   },
   "source": [
    "Про другием способы работы с категориальными переменными можно прочитать вот [тут](https://alexanderdyakonov.wordpress.com/2016/08/03/python-%D0%BA%D0%B0%D1%82%D0%B5%D0%B3%D0%BE%D1%80%D0%B8%D0%B0%D0%BB%D1%8C%D0%BD%D1%8B%D0%B5-%D0%BF%D1%80%D0%B8%D0%B7%D0%BD%D0%B0%D0%BA%D0%B8/)"
   ]
  },
  {
   "cell_type": "markdown",
   "metadata": {
    "deletable": true,
    "editable": true
   },
   "source": [
    "## Порядковый признаки"
   ]
  },
  {
   "cell_type": "markdown",
   "metadata": {
    "deletable": true,
    "editable": true
   },
   "source": [
    "Принимают значения из *упорядоченного* множества\n",
    "\n",
    "* Класс каюты (1 > 2 > 3)\n",
    "\n",
    "В зависимости от метода остаются можно оставить в исходном виде или применить OneHotEncoding."
   ]
  },
  {
   "cell_type": "markdown",
   "metadata": {
    "deletable": true,
    "editable": true
   },
   "source": [
    "## Текстовые признаки - Bag of words"
   ]
  },
  {
   "cell_type": "markdown",
   "metadata": {
    "deletable": true,
    "editable": true
   },
   "source": [
    "Для демонстрации возьмем текст стихотворения Блока:\n",
    "\n",
    "Ночь, улица, фонарь, аптека,<br/>\n",
    "Бессмысленный и тусклый свет.<br/>\n",
    "Живи еще хоть четверть века -<br/>\n",
    "Все будет так. Исхода нет.<br/>\n",
    "\n",
    "Умрешь - начнешь опять сначала<br/>\n",
    "И повторится все, как встарь:<br/>\n",
    "Ночь, ледяная рябь канала,<br/>\n",
    "Аптека, улица, фонарь.<br/>\n",
    "\n",
    "Пусть каждая строчка - это будет условный документ. Переведем эти документы в числовое представление по методу мешка слов (Bag Of Words)"
   ]
  },
  {
   "cell_type": "code",
   "execution_count": null,
   "metadata": {
    "collapsed": false,
    "deletable": true,
    "editable": true
   },
   "outputs": [],
   "source": [
    "from sklearn.feature_extraction.text import CountVectorizer\n",
    "from sklearn.feature_extraction.text import TfidfVectorizer\n",
    "\n",
    "corpus = \\\n",
    "[u'Ночь, улица, фонарь, аптека,',\n",
    " u'Бессмысленный и тусклый свет.',\n",
    " u'Живи еще хоть четверть века -',\n",
    " u'Все будет так. Исхода нет.',\n",
    " u'Умрешь - начнешь опять сначала',\n",
    " u'И повторится все, как встарь:',\n",
    " u'Ночь, ледяная рябь канала,',\n",
    " u'Аптека, улица, фонарь.']"
   ]
  },
  {
   "cell_type": "code",
   "execution_count": null,
   "metadata": {
    "collapsed": false,
    "deletable": true,
    "editable": true
   },
   "outputs": [],
   "source": [
    "vect = CountVectorizer()\n",
    "\n",
    "bow = vect.fit_transform(corpus)\n",
    "bow = bow.toarray()\n",
    "bow.shape"
   ]
  },
  {
   "cell_type": "markdown",
   "metadata": {
    "deletable": true,
    "editable": true
   },
   "source": [
    "Получили матрицу размера $8 \\times 27$, так как у нас 8 строчек и выделилось 27 униальных слов. Элемент матрицы показывает сколько раз слово встречалось в соответствующем документе."
   ]
  },
  {
   "cell_type": "code",
   "execution_count": null,
   "metadata": {
    "collapsed": false,
    "deletable": true,
    "editable": true
   },
   "outputs": [],
   "source": [
    "bow"
   ]
  },
  {
   "cell_type": "code",
   "execution_count": null,
   "metadata": {
    "collapsed": false,
    "deletable": true,
    "editable": true
   },
   "outputs": [],
   "source": [
    "# Посмотрим какие слова стоят по столбцам\n",
    "for i, w in enumerate(vect.get_feature_names()):\n",
    "    print u'столбец %d: %s' % (i, w)"
   ]
  },
  {
   "cell_type": "markdown",
   "metadata": {
    "deletable": true,
    "editable": true
   },
   "source": [
    "# Туториал: Имплементация собственного метода"
   ]
  },
  {
   "cell_type": "markdown",
   "metadata": {
    "deletable": true,
    "editable": true
   },
   "source": [
    "Для решения задач вида \"имплементируйте метод X\" крайне желательно (но необязательно) реализовывать методы с помощью интерфейса sklearn. Ниже вы увидите пример очень простого **классификатора**. Используйте эти наработи для выполнения задания."
   ]
  },
  {
   "cell_type": "markdown",
   "metadata": {
    "deletable": true,
    "editable": true
   },
   "source": [
    "Загрузите [датасет](https://archive.ics.uci.edu/ml/machine-learning-databases/wine-quality/winequality-red.csv) с информацией о характеристиках вина и его качестве. (В метод `pd.read_csv()` можно подать веб-ссылку на данные и пандас их скачает и преобразует в `DataFrame`)."
   ]
  },
  {
   "cell_type": "code",
   "execution_count": null,
   "metadata": {
    "collapsed": false,
    "deletable": true,
    "editable": true
   },
   "outputs": [],
   "source": [
    "df_wine = pd.read_csv('https://archive.ics.uci.edu/ml/machine-learning-databases/wine-quality/winequality-red.csv', sep=';')"
   ]
  },
  {
   "cell_type": "code",
   "execution_count": null,
   "metadata": {
    "collapsed": false,
    "deletable": true,
    "editable": true
   },
   "outputs": [],
   "source": [
    "df_wine.head()"
   ]
  },
  {
   "cell_type": "markdown",
   "metadata": {
    "deletable": true,
    "editable": true
   },
   "source": [
    "Наша задача состоит в предсказании целевого признака `quality` по остальным признакам. `quality` - это вещественная переменная (оценка качества от 0 до 10). Упростим себе задачу - создадим новый столбец `quality_cat` по следующим правилам:\n",
    "\n",
    "* `quality_cat = 1` если `quality > 5` \n",
    "* `quality_cat = 0` - иначе \n",
    "\n",
    "Таким образом, `quality_cat` характерует \"плохое\" и \"хорошее\" вино."
   ]
  },
  {
   "cell_type": "code",
   "execution_count": null,
   "metadata": {
    "collapsed": false,
    "deletable": true,
    "editable": true
   },
   "outputs": [],
   "source": [
    "def prepocess_wine(df):\n",
    "    df.loc[:, 'quality_cat'] = (df.loc[:, 'quality'] > 5).astype(int)\n",
    "    df = df.drop('quality', axis=1)\n",
    "    \n",
    "    return df"
   ]
  },
  {
   "cell_type": "code",
   "execution_count": null,
   "metadata": {
    "collapsed": true,
    "deletable": true,
    "editable": true
   },
   "outputs": [],
   "source": [
    "df_wine = df_wine.pipe(prepocess_wine)\n",
    "df_wine.head()"
   ]
  },
  {
   "cell_type": "markdown",
   "metadata": {
    "deletable": true,
    "editable": true
   },
   "source": [
    "Нарисуем распределение хорошего и плохого вина по признаку `alcohol`."
   ]
  },
  {
   "cell_type": "code",
   "execution_count": null,
   "metadata": {
    "collapsed": false,
    "deletable": true,
    "editable": true
   },
   "outputs": [],
   "source": [
    "_, ax = plt.subplots(1,1)\n",
    "df_wine.query('quality_cat == 1').hist('alcohol', alpha=0.3, bins=20, label='good', ax=ax)\n",
    "df_wine.query('quality_cat == 0').hist('alcohol', alpha=0.3, bins=20, label='bad', ax=ax)\n",
    "ax.set_xlabel('alcohol')\n",
    "ax.set_ylabel('count')\n",
    "plt.legend()"
   ]
  },
  {
   "cell_type": "markdown",
   "metadata": {
    "deletable": true,
    "editable": true
   },
   "source": [
    "Визуально кажется, что можно найти некоторое пороговое значение признака `alcohol` $\\theta$, чтобы хорошо дискриминировать между плохими и хорошим вином:\n",
    "* Если `alcohol >` $\\theta$ - то предсказываем, что вино хорошее\n",
    "* Если `alcohol <=` $\\theta$ - то предсказываем, что вино плохое\n",
    "\n",
    "Обучаеть классификатор будем очень просто: перебирать значения признака alchol и считать **ошибку** классификации. То значение, где ошибка минимальна и будет оптимальным.\n",
    "\n",
    "Разделим целевой признак от остальных признаков"
   ]
  },
  {
   "cell_type": "code",
   "execution_count": null,
   "metadata": {
    "collapsed": false,
    "deletable": true,
    "editable": true
   },
   "outputs": [],
   "source": [
    "X, y = df_wine.iloc[:, :-1].values, df_wine.iloc[:, -1].values"
   ]
  },
  {
   "cell_type": "markdown",
   "metadata": {
    "deletable": true,
    "editable": true
   },
   "source": [
    "Далее вы увидете пример реализации этого простого классификатора."
   ]
  },
  {
   "cell_type": "code",
   "execution_count": null,
   "metadata": {
    "collapsed": true,
    "deletable": true,
    "editable": true
   },
   "outputs": [],
   "source": [
    "from sklearn.base import BaseEstimator, ClassifierMixin\n",
    "\n",
    "class SimpleClassifier(BaseEstimator, ClassifierMixin): \n",
    "    \n",
    "    def __init__(self):\n",
    "        \"\"\"\n",
    "        Инициализация метода\n",
    "        \"\"\"\n",
    "        \n",
    "        self.threshold = 0\n",
    "\n",
    "    def fit(self, X, y=None):\n",
    "        \"\"\"\n",
    "        Выполняет процедуру обучения классификатора. В данном случае - перебор занчения признака alcohol.\n",
    "        Договоримся, что признак alcohol будет в последнем столбце матрицы X\n",
    "        \"\"\"\n",
    "        \n",
    "        alcohol = X[:,-1]\n",
    "        n = float(y.shape[0])\n",
    "        \n",
    "        # Задаем пространство поиска\n",
    "        alco_range = np.arange(alcohol.min(), alcohol.max(), 0.1)\n",
    "        \n",
    "        min_error_rate = 1\n",
    "                \n",
    "        #  Начинаем поиск\n",
    "        for theta in alco_range:\n",
    "            prediction = alcohol > theta\n",
    "            \n",
    "            error_rate = sum(prediction != y)/n\n",
    "            \n",
    "            if error_rate < min_error_rate:\n",
    "                min_error_rate = error_rate\n",
    "                self.threshold = theta  \n",
    "        \n",
    "        return self\n",
    "\n",
    "    def predict(self, X, y=None):\n",
    "        \"\"\"\n",
    "        Процедура предсказания класса по обученному порогу\n",
    "        \"\"\"\n",
    "        \n",
    "        return (X[:,-1] > self.threshold).astype(int)"
   ]
  },
  {
   "cell_type": "markdown",
   "metadata": {
    "deletable": true,
    "editable": true
   },
   "source": [
    "Обучаем модель"
   ]
  },
  {
   "cell_type": "code",
   "execution_count": null,
   "metadata": {
    "collapsed": false,
    "deletable": true,
    "editable": true
   },
   "outputs": [],
   "source": [
    "model = SimpleClassifier()\n",
    "model.fit(X, y)\n",
    "\n",
    "print 'Оптимальный порог: %f' % model.threshold"
   ]
  },
  {
   "cell_type": "markdown",
   "metadata": {
    "deletable": true,
    "editable": true
   },
   "source": [
    "Получаем предсказание модели (на обучающей выборке)"
   ]
  },
  {
   "cell_type": "code",
   "execution_count": null,
   "metadata": {
    "collapsed": true,
    "deletable": true,
    "editable": true
   },
   "outputs": [],
   "source": [
    "y_hat = model.predict(X)"
   ]
  },
  {
   "cell_type": "markdown",
   "metadata": {
    "deletable": true,
    "editable": true
   },
   "source": [
    "Оценим долю ошибок на обучающей выборке"
   ]
  },
  {
   "cell_type": "code",
   "execution_count": null,
   "metadata": {
    "collapsed": false,
    "deletable": true,
    "editable": true
   },
   "outputs": [],
   "source": [
    "error_rate = sum(y_hat != y)/float(y.shape[0])\n",
    "print 'Доля ошибок на обучающей выборке: %f' % error_rate"
   ]
  },
  {
   "cell_type": "markdown",
   "metadata": {
    "deletable": true,
    "editable": true
   },
   "source": [
    "## Проверка метода на контрольной выборке\n",
    "\n",
    "Мы обучили наш метод на данных о красном виде. \n",
    "\n",
    "Посмотрим, выполняется ли так же хорошо закономерность между качеством и уровнем алкоголя в белом вине."
   ]
  },
  {
   "cell_type": "code",
   "execution_count": null,
   "metadata": {
    "collapsed": false,
    "deletable": true,
    "editable": true
   },
   "outputs": [],
   "source": [
    "df_wine_test = pd.read_csv('https://archive.ics.uci.edu/ml/machine-learning-databases/wine-quality/winequality-white.csv',\n",
    "                           sep=';')\n",
    "\n",
    "df_wine_test = df_wine_test.pipe(prepocess_wine)\n",
    "df_wine_test.head()"
   ]
  },
  {
   "cell_type": "code",
   "execution_count": null,
   "metadata": {
    "collapsed": false,
    "deletable": true,
    "editable": true
   },
   "outputs": [],
   "source": [
    "X_test, y_test = df_wine_test.iloc[:, :-1].values, df_wine_test.iloc[:, -1].values\n",
    "y_hat = model.predict(X_test)"
   ]
  },
  {
   "cell_type": "code",
   "execution_count": null,
   "metadata": {
    "collapsed": false,
    "deletable": true,
    "editable": true
   },
   "outputs": [],
   "source": [
    "error_rate = sum(y_hat != y_test)/float(y_test.shape[0])\n",
    "print 'Доля ошибок на контрольной выборке: %f' % error_rate"
   ]
  },
  {
   "cell_type": "markdown",
   "metadata": {
    "deletable": true,
    "editable": true
   },
   "source": [
    "Получилось неплохо и это лишь наивный алгоритм на одном признаке! Ну а выводы делайте сами =)"
   ]
  },
  {
   "cell_type": "markdown",
   "metadata": {
    "deletable": true,
    "editable": true
   },
   "source": [
    "# Имплементация K-means\n",
    "\n",
    "Пользуясь наработками выше, имплементируйте метод k-means.</br> При инициализации необходимо задавать количество кластеров, функцию расстояния между кластерами (для оригинального k-means - евклидово расстояние) и начальное состояние генератора случайных чисел.\n",
    "\n",
    "После обучения, среди атрибутов класса `Kmeans` должны появится\n",
    "* Метки кластеров для объектов\n",
    "* Координаты центройдов кластеров\n",
    "\n",
    "k-means - это алгоритм **кластеризации**, а не классификации, а посему метод `.predict()` в нем фактически не нужен, но он может возвращать метки ближайшего кластера для объектов."
   ]
  },
  {
   "cell_type": "markdown",
   "metadata": {
    "deletable": true,
    "editable": true
   },
   "source": [
    "#### Задание 1 (5 баллов)\n",
    "\n",
    "Имплементируйте метод k-means"
   ]
  },
  {
   "cell_type": "code",
   "execution_count": 1,
   "metadata": {
    "collapsed": true,
    "deletable": true,
    "editable": true
   },
   "outputs": [],
   "source": [
    "from sklearn.base import ClusterMixin, BaseEstimator\n",
    "import numpy as np\n",
    "\n",
    "\n",
    "class Kmeans(BaseEstimator, ClusterMixin):\n",
    "    def __init__(self, k=2, metric='euclidean', max_iter=1000, random_state=None):\n",
    "        \"\"\"\n",
    "        Инициализация метода\n",
    "        :k - количество кластеров\n",
    "        :metric - функция расстояния между объектами\n",
    "        :max_iter - максиальное количество итераций\n",
    "        :random_state - seed для инициализации генератора случайных чисел\n",
    "        \"\"\"\n",
    "\n",
    "        self.k = k\n",
    "        self.random_state = random_state\n",
    "        self.metric = metric\n",
    "        self.max_iter = max_iter\n",
    "\n",
    "    def fit(self, X, y=None):\n",
    "        \"\"\"\n",
    "        Процедура обучения k-means\n",
    "        \"\"\"\n",
    "\n",
    "        # Инициализация генератора случайных чисел\n",
    "        np.random.seed(self.random_state)\n",
    "\n",
    "        # Массив с метками кластеров для каждого объекта из X\n",
    "        self.labels = np.empty(X.shape[0], dtype=int)\n",
    "\n",
    "        # Массив с центройдами кластеров\n",
    "        self.centroids = np.empty((self.k, X.shape[1]))\n",
    "\n",
    "        ## Your Code Here\n",
    "\n",
    "        metricF = self.metric if callable(self.metric) else self._euclideanMetric\n",
    "\n",
    "        # Получение минимальных и максимальных координат\n",
    "        minmax=np.column_stack((np.amin(X,axis=0),np.amax(X,axis=0)))\n",
    "\n",
    "        # Инициализация центройдов\n",
    "        self.centroids=X[np.random.choice(range(X.shape[0]),self.k)]\n",
    "\n",
    "        # Инициализация массива с метками кластеров для каждого объекта из X\n",
    "        self.labels.fill(-1)\n",
    "\n",
    "        changed = True  # Если распределение исходной выборки по кластерам не поменялось то False иначе True\n",
    "        iter = 0\n",
    "        while (iter < self.max_iter and changed):\n",
    "            changed = False\n",
    "            # Нахождение ближайшего центройда\n",
    "            for i, x in enumerate(X):\n",
    "                nearestCentroidIndex = 0\n",
    "                nearestDistance = metricF(x, self.centroids[0])\n",
    "                for j, c in enumerate(self.centroids[1:]):\n",
    "                    dist = metricF(x, c)\n",
    "                    if nearestDistance > dist:\n",
    "                        nearestDistance = dist\n",
    "                        nearestCentroidIndex = j+1\n",
    "                if self.labels[i] != nearestCentroidIndex: changed = True\n",
    "                self.labels[i] = nearestCentroidIndex\n",
    "\n",
    "            # Обновление положения центройдов\n",
    "            self.centroids.fill(0)\n",
    "            counter = np.full(self.k, 0, dtype=int)\n",
    "            for xi, ci in enumerate(self.labels):\n",
    "                counter[ci] += 1\n",
    "                self.centroids[ci] += X[xi]\n",
    "            centroidIds=np.arange(self.k)\n",
    "            zeroIds=centroidIds[counter==0]\n",
    "            nonZeroIds=centroidIds[counter!=0]\n",
    "            self.centroids[nonZeroIds] /= counter[nonZeroIds, np.newaxis]\n",
    "\n",
    "            if len(zeroIds):\n",
    "                for j in range(X.shape[1]):\n",
    "                    self.centroids[zeroIds, j] = np.random.uniform(minmax[j][0], minmax[j][1], zeroIds.shape[0])\n",
    "\n",
    "\n",
    "            iter += 1\n",
    "\n",
    "        return self\n",
    "\n",
    "    def predict(self, X, y=None):\n",
    "        \"\"\"\n",
    "        Процедура предсказания кластера\n",
    "\n",
    "        Возвращает метку ближайшего кластера для каждого объекта\n",
    "        \"\"\"\n",
    "        metricF = self.metric if callable(self.metric) else self._euclideanMetric\n",
    "        res = np.empty(X.shape[0], dtype=int)\n",
    "        # Нахождение ближайшего центройда\n",
    "        for i, x in enumerate(X):\n",
    "            nearestCentroidIndex = 0\n",
    "            nearestDistance = metricF(x, self.centroids[0])\n",
    "            for j, c in enumerate(self.centroids[1:]):\n",
    "                    dist = metricF(x, c)\n",
    "                    if nearestDistance > dist:\n",
    "                        nearestDistance = dist\n",
    "                        nearestCentroidIndex = j+1\n",
    "            res[i] = nearestCentroidIndex\n",
    "        return res\n",
    "\n",
    "    # Евклидова метрика\n",
    "    @staticmethod\n",
    "    def _euclideanMetric(a, b):\n",
    "        return np.linalg.norm(a-b)"
   ]
  },
  {
   "cell_type": "markdown",
   "metadata": {
    "deletable": true,
    "editable": true
   },
   "source": [
    "### Проверка корректности метода\n",
    "\n",
    "Перед тем как применять алгоритм на реальных данных, желатено испытать его на простых \"игрушечных\" данных.\n",
    "\n",
    "Если алгоритм реализован правильно, то метод должен идеально разбивать на 3 кластера данные ниже. Проверьте это."
   ]
  },
  {
   "cell_type": "code",
   "execution_count": 2,
   "metadata": {
    "collapsed": true,
    "deletable": true,
    "editable": true
   },
   "outputs": [],
   "source": [
    "from sklearn.datasets import make_blobs"
   ]
  },
  {
   "cell_type": "code",
   "execution_count": 3,
   "metadata": {
    "collapsed": false,
    "deletable": true,
    "editable": true
   },
   "outputs": [],
   "source": [
    "X, y = make_blobs(n_samples=100, n_features=2, centers=3, cluster_std=1, \n",
    "           center_box=(-10.0, 10.0), shuffle=False, random_state=1234)"
   ]
  },
  {
   "cell_type": "code",
   "execution_count": 6,
   "metadata": {
    "collapsed": false,
    "deletable": true,
    "editable": true
   },
   "outputs": [
    {
     "data": {
      "text/plain": [
       "<matplotlib.collections.PathCollection at 0x7e3ceb0>"
      ]
     },
     "execution_count": 6,
     "metadata": {},
     "output_type": "execute_result"
    },
    {
     "data": {
      "image/png": "[encoded data removed]",
      "text/plain": [
       "<matplotlib.figure.Figure at 0x7ddd9b0>"
      ]
     },
     "metadata": {},
     "output_type": "display_data"
    }
   ],
   "source": [
    "plt.scatter(X[:,0], X[:, 1], c=y)"
   ]
  },
  {
   "cell_type": "markdown",
   "metadata": {
    "deletable": true,
    "editable": true
   },
   "source": [
    "#### Задание 2 (1 балл) \n",
    "\n",
    "Проверьте вашу имплементацию на простых данных"
   ]
  },
  {
   "cell_type": "code",
   "execution_count": 7,
   "metadata": {
    "collapsed": false,
    "deletable": true,
    "editable": true
   },
   "outputs": [
    {
     "data": {
      "text/plain": [
       "<matplotlib.collections.PathCollection at 0x7eb3eb0>"
      ]
     },
     "execution_count": 7,
     "metadata": {},
     "output_type": "execute_result"
    },
    {
     "data": {
      "image/png": "[encoded data removed]",
      "text/plain": [
       "<matplotlib.figure.Figure at 0x60f1c70>"
      ]
     },
     "metadata": {},
     "output_type": "display_data"
    }
   ],
   "source": [
    "# Your Code Here\n",
    "km=Kmeans(3)\n",
    "km.fit(X)\n",
    "y2=km.predict(X)\n",
    "plt.scatter(X[:,0], X[:, 1], c=y2)"
   ]
  },
  {
   "cell_type": "markdown",
   "metadata": {
    "deletable": true,
    "editable": true
   },
   "source": [
    "# Применение K-means на реальных данных"
   ]
  },
  {
   "cell_type": "markdown",
   "metadata": {
    "deletable": true,
    "editable": true
   },
   "source": [
    "Загрузите [данные](https://github.com/brenden17/sklearnlab/blob/master/facebook/snsdata.csv) в которых содержится описание интересов профилей учеников старшей школы США."
   ]
  },
  {
   "cell_type": "code",
   "execution_count": 4,
   "metadata": {
    "collapsed": false,
    "deletable": true,
    "editable": true
   },
   "outputs": [
    {
     "data": {
      "text/html": [
       "<div>\n",
       "<table border=\"1\" class=\"dataframe\">\n",
       "  <thead>\n",
       "    <tr style=\"text-align: right;\">\n",
       "      <th></th>\n",
       "      <th>gradyear</th>\n",
       "      <th>gender</th>\n",
       "      <th>age</th>\n",
       "      <th>friends</th>\n",
       "      <th>basketball</th>\n",
       "      <th>football</th>\n",
       "      <th>soccer</th>\n",
       "      <th>softball</th>\n",
       "      <th>volleyball</th>\n",
       "      <th>swimming</th>\n",
       "      <th>...</th>\n",
       "      <th>blonde</th>\n",
       "      <th>mall</th>\n",
       "      <th>shopping</th>\n",
       "      <th>clothes</th>\n",
       "      <th>hollister</th>\n",
       "      <th>abercrombie</th>\n",
       "      <th>die</th>\n",
       "      <th>death</th>\n",
       "      <th>drunk</th>\n",
       "      <th>drugs</th>\n",
       "    </tr>\n",
       "  </thead>\n",
       "  <tbody>\n",
       "    <tr>\n",
       "      <th>0</th>\n",
       "      <td>2006</td>\n",
       "      <td>M</td>\n",
       "      <td>18.982</td>\n",
       "      <td>7</td>\n",
       "      <td>0</td>\n",
       "      <td>0</td>\n",
       "      <td>0</td>\n",
       "      <td>0</td>\n",
       "      <td>0</td>\n",
       "      <td>0</td>\n",
       "      <td>...</td>\n",
       "      <td>0</td>\n",
       "      <td>0</td>\n",
       "      <td>0</td>\n",
       "      <td>0</td>\n",
       "      <td>0</td>\n",
       "      <td>0</td>\n",
       "      <td>0</td>\n",
       "      <td>0</td>\n",
       "      <td>0</td>\n",
       "      <td>0</td>\n",
       "    </tr>\n",
       "    <tr>\n",
       "      <th>1</th>\n",
       "      <td>2006</td>\n",
       "      <td>F</td>\n",
       "      <td>18.801</td>\n",
       "      <td>0</td>\n",
       "      <td>0</td>\n",
       "      <td>1</td>\n",
       "      <td>0</td>\n",
       "      <td>0</td>\n",
       "      <td>0</td>\n",
       "      <td>0</td>\n",
       "      <td>...</td>\n",
       "      <td>0</td>\n",
       "      <td>1</td>\n",
       "      <td>0</td>\n",
       "      <td>0</td>\n",
       "      <td>0</td>\n",
       "      <td>0</td>\n",
       "      <td>0</td>\n",
       "      <td>0</td>\n",
       "      <td>0</td>\n",
       "      <td>0</td>\n",
       "    </tr>\n",
       "    <tr>\n",
       "      <th>2</th>\n",
       "      <td>2006</td>\n",
       "      <td>M</td>\n",
       "      <td>18.335</td>\n",
       "      <td>69</td>\n",
       "      <td>0</td>\n",
       "      <td>1</td>\n",
       "      <td>0</td>\n",
       "      <td>0</td>\n",
       "      <td>0</td>\n",
       "      <td>0</td>\n",
       "      <td>...</td>\n",
       "      <td>0</td>\n",
       "      <td>0</td>\n",
       "      <td>0</td>\n",
       "      <td>0</td>\n",
       "      <td>0</td>\n",
       "      <td>0</td>\n",
       "      <td>0</td>\n",
       "      <td>1</td>\n",
       "      <td>0</td>\n",
       "      <td>0</td>\n",
       "    </tr>\n",
       "    <tr>\n",
       "      <th>3</th>\n",
       "      <td>2006</td>\n",
       "      <td>F</td>\n",
       "      <td>18.875</td>\n",
       "      <td>0</td>\n",
       "      <td>0</td>\n",
       "      <td>0</td>\n",
       "      <td>0</td>\n",
       "      <td>0</td>\n",
       "      <td>0</td>\n",
       "      <td>0</td>\n",
       "      <td>...</td>\n",
       "      <td>0</td>\n",
       "      <td>0</td>\n",
       "      <td>0</td>\n",
       "      <td>0</td>\n",
       "      <td>0</td>\n",
       "      <td>0</td>\n",
       "      <td>0</td>\n",
       "      <td>0</td>\n",
       "      <td>0</td>\n",
       "      <td>0</td>\n",
       "    </tr>\n",
       "    <tr>\n",
       "      <th>4</th>\n",
       "      <td>2006</td>\n",
       "      <td>NaN</td>\n",
       "      <td>18.995</td>\n",
       "      <td>10</td>\n",
       "      <td>0</td>\n",
       "      <td>0</td>\n",
       "      <td>0</td>\n",
       "      <td>0</td>\n",
       "      <td>0</td>\n",
       "      <td>0</td>\n",
       "      <td>...</td>\n",
       "      <td>0</td>\n",
       "      <td>0</td>\n",
       "      <td>2</td>\n",
       "      <td>0</td>\n",
       "      <td>0</td>\n",
       "      <td>0</td>\n",
       "      <td>0</td>\n",
       "      <td>0</td>\n",
       "      <td>1</td>\n",
       "      <td>1</td>\n",
       "    </tr>\n",
       "  </tbody>\n",
       "</table>\n",
       "<p>5 rows × 40 columns</p>\n",
       "</div>"
      ],
      "text/plain": [
       "   gradyear gender     age  friends  basketball  football  soccer  softball  \\\n",
       "0      2006      M  18.982        7           0         0       0         0   \n",
       "1      2006      F  18.801        0           0         1       0         0   \n",
       "2      2006      M  18.335       69           0         1       0         0   \n",
       "3      2006      F  18.875        0           0         0       0         0   \n",
       "4      2006    NaN  18.995       10           0         0       0         0   \n",
       "\n",
       "   volleyball  swimming  ...    blonde  mall  shopping  clothes  hollister  \\\n",
       "0           0         0  ...         0     0         0        0          0   \n",
       "1           0         0  ...         0     1         0        0          0   \n",
       "2           0         0  ...         0     0         0        0          0   \n",
       "3           0         0  ...         0     0         0        0          0   \n",
       "4           0         0  ...         0     0         2        0          0   \n",
       "\n",
       "   abercrombie  die  death  drunk  drugs  \n",
       "0            0    0      0      0      0  \n",
       "1            0    0      0      0      0  \n",
       "2            0    0      1      0      0  \n",
       "3            0    0      0      0      0  \n",
       "4            0    0      0      1      1  \n",
       "\n",
       "[5 rows x 40 columns]"
      ]
     },
     "execution_count": 4,
     "metadata": {},
     "output_type": "execute_result"
    }
   ],
   "source": [
    "df_sns = pd.read_csv('snsdata.csv', sep=',')\n",
    "df_sns.head()"
   ]
  },
  {
   "cell_type": "markdown",
   "metadata": {
    "deletable": true,
    "editable": true
   },
   "source": [
    "Данные устроены так: \n",
    "* Год выпуска\n",
    "* Пол\n",
    "* Возраст\n",
    "* Количество друзей\n",
    "* 36 ключевых слов, которые встречаются в профилe facebook (интересы, сообщества, встречи)"
   ]
  },
  {
   "cell_type": "markdown",
   "metadata": {
    "deletable": true,
    "editable": true
   },
   "source": [
    "#### Задание 3 (4 балла)\n",
    "\n",
    "* Удалите все признаки кроме 36 ключевых слов.\n",
    "* Нормализуйте данные - из каждого столбца вычтите его среднее значение и поделите на стандартное отклонение.\n",
    "* Используйте метод k-means чтобы выделить 9 кластеров\n",
    "* Попробуйте проинтерпретировать каждый кластер проанализировав полученные центройды (Некоторые кластеры могут быть очень большие и очень маленькие - плохо интерпретируются)"
   ]
  },
  {
   "cell_type": "code",
   "execution_count": 14,
   "metadata": {
    "collapsed": true,
    "deletable": true,
    "editable": true
   },
   "outputs": [],
   "source": [
    "## Your Code Here\n",
    "df_sns=df_sns.drop([\"gradyear\",\"gender\",\"age\",\"friends\"],axis=1)\n",
    "\n",
    "for i in df_sns.columns:\n",
    "    mean=df_sns[i].mean()\n",
    "    std=df_sns[i].std()\n",
    "    df_sns[i]=(df_sns[i]-mean)/std\n",
    "\n",
    "clusterCount=9\n",
    "km=kmeans.Kmeans(clusterCount)\n",
    "km.fit(df_sns.values)\n",
    "\n",
    "xclusters=km.labels\n",
    "centers=km.centroids"
   ]
  },
  {
   "cell_type": "markdown",
   "metadata": {
    "deletable": true,
    "editable": true
   },
   "source": [
    "Отсеем большие и маленькие кластеры"
   ]
  },
  {
   "cell_type": "code",
   "execution_count": 15,
   "metadata": {
    "collapsed": false,
    "deletable": true,
    "editable": true
   },
   "outputs": [
    {
     "data": {
      "text/plain": [
       "[<matplotlib.lines.Line2D at 0x943510>]"
      ]
     },
     "execution_count": 15,
     "metadata": {},
     "output_type": "execute_result"
    },
    {
     "data": {
      "image/png": "[encoded data removed]",
      "text/plain": [
       "<matplotlib.figure.Figure at 0x81eff50>"
      ]
     },
     "metadata": {},
     "output_type": "display_data"
    }
   ],
   "source": [
    "cweights=np.zeros(centers.shape[0],dtype=int)\n",
    "unique, counts = np.unique(xclusters, return_counts=True)\n",
    "cweights[unique]=counts\n",
    "plt.plot(cweights)"
   ]
  },
  {
   "cell_type": "code",
   "execution_count": 26,
   "metadata": {
    "collapsed": false,
    "deletable": true,
    "editable": true
   },
   "outputs": [
    {
     "data": {
      "text/plain": [
       "array([0, 2, 4, 5, 6, 8])"
      ]
     },
     "execution_count": 26,
     "metadata": {},
     "output_type": "execute_result"
    }
   ],
   "source": [
    "minElements=df_sns.shape[0]/float(clusterCount)/5\n",
    "maxElements=df_sns.shape[0]/float(clusterCount)*5\n",
    "goodClusters=np.arange(clusterCount)[(cweights>minElements)*(cweights<maxElements)]\n",
    "goodClusters"
   ]
  },
  {
   "cell_type": "markdown",
   "metadata": {
    "deletable": true,
    "editable": true
   },
   "source": [
    "Попробуем выделить наиболее значимые признаки для кластеров, по идее у таких признаков должно быть небольшое стандартное отклонение в пределах кластера или сильно отличающееся среднее зачение от других кластеров"
   ]
  },
  {
   "cell_type": "code",
   "execution_count": 102,
   "metadata": {
    "collapsed": false,
    "deletable": true,
    "editable": true
   },
   "outputs": [
    {
     "data": {
      "text/html": [
       "<div>\n",
       "<table border=\"1\" class=\"dataframe\">\n",
       "  <thead>\n",
       "    <tr style=\"text-align: right;\">\n",
       "      <th></th>\n",
       "      <th>basketball</th>\n",
       "      <th>football</th>\n",
       "      <th>soccer</th>\n",
       "      <th>softball</th>\n",
       "      <th>volleyball</th>\n",
       "      <th>swimming</th>\n",
       "      <th>cheerleading</th>\n",
       "      <th>baseball</th>\n",
       "      <th>tennis</th>\n",
       "      <th>sports</th>\n",
       "      <th>cute</th>\n",
       "      <th>sex</th>\n",
       "      <th>sexy</th>\n",
       "      <th>hot</th>\n",
       "      <th>kissed</th>\n",
       "      <th>dance</th>\n",
       "      <th>band</th>\n",
       "      <th>marching</th>\n",
       "      <th>music</th>\n",
       "      <th>rock</th>\n",
       "      <th>god</th>\n",
       "      <th>church</th>\n",
       "      <th>jesus</th>\n",
       "      <th>bible</th>\n",
       "      <th>hair</th>\n",
       "      <th>dress</th>\n",
       "      <th>blonde</th>\n",
       "      <th>mall</th>\n",
       "      <th>shopping</th>\n",
       "      <th>clothes</th>\n",
       "      <th>hollister</th>\n",
       "      <th>abercrombie</th>\n",
       "      <th>die</th>\n",
       "      <th>death</th>\n",
       "      <th>drunk</th>\n",
       "      <th>drugs</th>\n",
       "    </tr>\n",
       "  </thead>\n",
       "  <tbody>\n",
       "    <tr>\n",
       "      <th>0</th>\n",
       "      <td>1.037290</td>\n",
       "      <td>1.227023</td>\n",
       "      <td>0.825418</td>\n",
       "      <td>0.816838</td>\n",
       "      <td>1.306555</td>\n",
       "      <td>1.410421</td>\n",
       "      <td>1.670413</td>\n",
       "      <td>0.769470</td>\n",
       "      <td>1.457237</td>\n",
       "      <td>0.998990</td>\n",
       "      <td>1.422535</td>\n",
       "      <td>0.701788</td>\n",
       "      <td>1.054519</td>\n",
       "      <td>1.646120</td>\n",
       "      <td>1.043184</td>\n",
       "      <td>1.308790</td>\n",
       "      <td>0.514582</td>\n",
       "      <td>0.377267</td>\n",
       "      <td>0.999142</td>\n",
       "      <td>0.996322</td>\n",
       "      <td>0.632705</td>\n",
       "      <td>0.786589</td>\n",
       "      <td>0.692345</td>\n",
       "      <td>0.442650</td>\n",
       "      <td>1.451054</td>\n",
       "      <td>1.260317</td>\n",
       "      <td>0.347981</td>\n",
       "      <td>1.758984</td>\n",
       "      <td>1.481453</td>\n",
       "      <td>1.829467</td>\n",
       "      <td>2.865887</td>\n",
       "      <td>3.174254</td>\n",
       "      <td>0.910373</td>\n",
       "      <td>1.044565</td>\n",
       "      <td>1.024917</td>\n",
       "      <td>0.875756</td>\n",
       "    </tr>\n",
       "    <tr>\n",
       "      <th>2</th>\n",
       "      <td>0.748632</td>\n",
       "      <td>0.932740</td>\n",
       "      <td>0.455237</td>\n",
       "      <td>0.562165</td>\n",
       "      <td>0.702614</td>\n",
       "      <td>1.662258</td>\n",
       "      <td>1.844029</td>\n",
       "      <td>0.527674</td>\n",
       "      <td>1.197764</td>\n",
       "      <td>0.731248</td>\n",
       "      <td>1.671639</td>\n",
       "      <td>0.598961</td>\n",
       "      <td>1.779206</td>\n",
       "      <td>1.808990</td>\n",
       "      <td>0.649019</td>\n",
       "      <td>1.876659</td>\n",
       "      <td>0.673509</td>\n",
       "      <td>0.242711</td>\n",
       "      <td>1.252724</td>\n",
       "      <td>1.145080</td>\n",
       "      <td>0.838652</td>\n",
       "      <td>1.483496</td>\n",
       "      <td>0.714847</td>\n",
       "      <td>0.229867</td>\n",
       "      <td>1.111354</td>\n",
       "      <td>1.925738</td>\n",
       "      <td>0.276355</td>\n",
       "      <td>1.674396</td>\n",
       "      <td>1.550041</td>\n",
       "      <td>1.536821</td>\n",
       "      <td>0.672201</td>\n",
       "      <td>0.639425</td>\n",
       "      <td>0.896877</td>\n",
       "      <td>1.168491</td>\n",
       "      <td>0.997847</td>\n",
       "      <td>0.631850</td>\n",
       "    </tr>\n",
       "    <tr>\n",
       "      <th>4</th>\n",
       "      <td>0.689427</td>\n",
       "      <td>0.969030</td>\n",
       "      <td>0.503315</td>\n",
       "      <td>0.675726</td>\n",
       "      <td>0.867273</td>\n",
       "      <td>0.989178</td>\n",
       "      <td>0.611849</td>\n",
       "      <td>0.439140</td>\n",
       "      <td>1.369351</td>\n",
       "      <td>0.826577</td>\n",
       "      <td>0.823770</td>\n",
       "      <td>0.631958</td>\n",
       "      <td>0.847088</td>\n",
       "      <td>0.817588</td>\n",
       "      <td>0.726429</td>\n",
       "      <td>0.955904</td>\n",
       "      <td>3.808201</td>\n",
       "      <td>3.685195</td>\n",
       "      <td>1.330873</td>\n",
       "      <td>1.163850</td>\n",
       "      <td>0.819686</td>\n",
       "      <td>0.938798</td>\n",
       "      <td>0.731764</td>\n",
       "      <td>0.469876</td>\n",
       "      <td>0.761964</td>\n",
       "      <td>0.942076</td>\n",
       "      <td>0.230762</td>\n",
       "      <td>0.819811</td>\n",
       "      <td>0.910086</td>\n",
       "      <td>0.907400</td>\n",
       "      <td>0.296234</td>\n",
       "      <td>0.411285</td>\n",
       "      <td>0.820322</td>\n",
       "      <td>0.965839</td>\n",
       "      <td>0.646068</td>\n",
       "      <td>0.644850</td>\n",
       "    </tr>\n",
       "    <tr>\n",
       "      <th>5</th>\n",
       "      <td>1.077467</td>\n",
       "      <td>1.295877</td>\n",
       "      <td>2.748468</td>\n",
       "      <td>0.688130</td>\n",
       "      <td>1.146349</td>\n",
       "      <td>1.028025</td>\n",
       "      <td>0.931430</td>\n",
       "      <td>0.797134</td>\n",
       "      <td>1.183486</td>\n",
       "      <td>1.396438</td>\n",
       "      <td>0.989216</td>\n",
       "      <td>0.446336</td>\n",
       "      <td>0.893890</td>\n",
       "      <td>1.035417</td>\n",
       "      <td>0.619351</td>\n",
       "      <td>0.790370</td>\n",
       "      <td>0.663448</td>\n",
       "      <td>0.417180</td>\n",
       "      <td>0.833417</td>\n",
       "      <td>1.203074</td>\n",
       "      <td>0.689300</td>\n",
       "      <td>1.114992</td>\n",
       "      <td>0.719857</td>\n",
       "      <td>0.613362</td>\n",
       "      <td>0.880989</td>\n",
       "      <td>0.928383</td>\n",
       "      <td>0.458328</td>\n",
       "      <td>1.053989</td>\n",
       "      <td>1.112269</td>\n",
       "      <td>0.762597</td>\n",
       "      <td>0.785111</td>\n",
       "      <td>0.695092</td>\n",
       "      <td>0.826448</td>\n",
       "      <td>0.815900</td>\n",
       "      <td>0.776911</td>\n",
       "      <td>0.620743</td>\n",
       "    </tr>\n",
       "    <tr>\n",
       "      <th>6</th>\n",
       "      <td>1.582148</td>\n",
       "      <td>1.385211</td>\n",
       "      <td>0.933629</td>\n",
       "      <td>1.367221</td>\n",
       "      <td>1.103002</td>\n",
       "      <td>1.369346</td>\n",
       "      <td>1.315188</td>\n",
       "      <td>1.094328</td>\n",
       "      <td>1.120602</td>\n",
       "      <td>2.079002</td>\n",
       "      <td>1.651067</td>\n",
       "      <td>4.472994</td>\n",
       "      <td>1.853249</td>\n",
       "      <td>1.606173</td>\n",
       "      <td>3.662686</td>\n",
       "      <td>1.365643</td>\n",
       "      <td>1.119731</td>\n",
       "      <td>0.634592</td>\n",
       "      <td>2.543128</td>\n",
       "      <td>2.723837</td>\n",
       "      <td>1.047858</td>\n",
       "      <td>1.133644</td>\n",
       "      <td>0.775711</td>\n",
       "      <td>0.990049</td>\n",
       "      <td>2.743416</td>\n",
       "      <td>1.637804</td>\n",
       "      <td>0.466147</td>\n",
       "      <td>1.465404</td>\n",
       "      <td>1.259092</td>\n",
       "      <td>2.137348</td>\n",
       "      <td>1.472539</td>\n",
       "      <td>1.421689</td>\n",
       "      <td>3.238730</td>\n",
       "      <td>2.736801</td>\n",
       "      <td>3.066414</td>\n",
       "      <td>3.843732</td>\n",
       "    </tr>\n",
       "    <tr>\n",
       "      <th>8</th>\n",
       "      <td>2.361020</td>\n",
       "      <td>2.128298</td>\n",
       "      <td>0.652124</td>\n",
       "      <td>2.867642</td>\n",
       "      <td>2.740548</td>\n",
       "      <td>1.057432</td>\n",
       "      <td>1.129742</td>\n",
       "      <td>3.001646</td>\n",
       "      <td>1.232816</td>\n",
       "      <td>2.175394</td>\n",
       "      <td>0.939992</td>\n",
       "      <td>0.583641</td>\n",
       "      <td>0.909649</td>\n",
       "      <td>0.883383</td>\n",
       "      <td>0.603606</td>\n",
       "      <td>0.794247</td>\n",
       "      <td>0.604643</td>\n",
       "      <td>0.370588</td>\n",
       "      <td>0.812195</td>\n",
       "      <td>1.319096</td>\n",
       "      <td>0.703040</td>\n",
       "      <td>1.135363</td>\n",
       "      <td>0.700460</td>\n",
       "      <td>0.398027</td>\n",
       "      <td>0.921655</td>\n",
       "      <td>0.728909</td>\n",
       "      <td>0.383992</td>\n",
       "      <td>0.957839</td>\n",
       "      <td>0.961389</td>\n",
       "      <td>0.956218</td>\n",
       "      <td>0.541084</td>\n",
       "      <td>0.557443</td>\n",
       "      <td>0.678526</td>\n",
       "      <td>0.792783</td>\n",
       "      <td>0.702763</td>\n",
       "      <td>0.507720</td>\n",
       "    </tr>\n",
       "  </tbody>\n",
       "</table>\n",
       "</div>"
      ],
      "text/plain": [
       "   basketball  football    soccer  softball  volleyball  swimming  \\\n",
       "0    1.037290  1.227023  0.825418  0.816838    1.306555  1.410421   \n",
       "2    0.748632  0.932740  0.455237  0.562165    0.702614  1.662258   \n",
       "4    0.689427  0.969030  0.503315  0.675726    0.867273  0.989178   \n",
       "5    1.077467  1.295877  2.748468  0.688130    1.146349  1.028025   \n",
       "6    1.582148  1.385211  0.933629  1.367221    1.103002  1.369346   \n",
       "8    2.361020  2.128298  0.652124  2.867642    2.740548  1.057432   \n",
       "\n",
       "   cheerleading  baseball    tennis    sports      cute       sex      sexy  \\\n",
       "0      1.670413  0.769470  1.457237  0.998990  1.422535  0.701788  1.054519   \n",
       "2      1.844029  0.527674  1.197764  0.731248  1.671639  0.598961  1.779206   \n",
       "4      0.611849  0.439140  1.369351  0.826577  0.823770  0.631958  0.847088   \n",
       "5      0.931430  0.797134  1.183486  1.396438  0.989216  0.446336  0.893890   \n",
       "6      1.315188  1.094328  1.120602  2.079002  1.651067  4.472994  1.853249   \n",
       "8      1.129742  3.001646  1.232816  2.175394  0.939992  0.583641  0.909649   \n",
       "\n",
       "        hot    kissed     dance      band  marching     music      rock  \\\n",
       "0  1.646120  1.043184  1.308790  0.514582  0.377267  0.999142  0.996322   \n",
       "2  1.808990  0.649019  1.876659  0.673509  0.242711  1.252724  1.145080   \n",
       "4  0.817588  0.726429  0.955904  3.808201  3.685195  1.330873  1.163850   \n",
       "5  1.035417  0.619351  0.790370  0.663448  0.417180  0.833417  1.203074   \n",
       "6  1.606173  3.662686  1.365643  1.119731  0.634592  2.543128  2.723837   \n",
       "8  0.883383  0.603606  0.794247  0.604643  0.370588  0.812195  1.319096   \n",
       "\n",
       "        god    church     jesus     bible      hair     dress    blonde  \\\n",
       "0  0.632705  0.786589  0.692345  0.442650  1.451054  1.260317  0.347981   \n",
       "2  0.838652  1.483496  0.714847  0.229867  1.111354  1.925738  0.276355   \n",
       "4  0.819686  0.938798  0.731764  0.469876  0.761964  0.942076  0.230762   \n",
       "5  0.689300  1.114992  0.719857  0.613362  0.880989  0.928383  0.458328   \n",
       "6  1.047858  1.133644  0.775711  0.990049  2.743416  1.637804  0.466147   \n",
       "8  0.703040  1.135363  0.700460  0.398027  0.921655  0.728909  0.383992   \n",
       "\n",
       "       mall  shopping   clothes  hollister  abercrombie       die     death  \\\n",
       "0  1.758984  1.481453  1.829467   2.865887     3.174254  0.910373  1.044565   \n",
       "2  1.674396  1.550041  1.536821   0.672201     0.639425  0.896877  1.168491   \n",
       "4  0.819811  0.910086  0.907400   0.296234     0.411285  0.820322  0.965839   \n",
       "5  1.053989  1.112269  0.762597   0.785111     0.695092  0.826448  0.815900   \n",
       "6  1.465404  1.259092  2.137348   1.472539     1.421689  3.238730  2.736801   \n",
       "8  0.957839  0.961389  0.956218   0.541084     0.557443  0.678526  0.792783   \n",
       "\n",
       "      drunk     drugs  \n",
       "0  1.024917  0.875756  \n",
       "2  0.997847  0.631850  \n",
       "4  0.646068  0.644850  \n",
       "5  0.776911  0.620743  \n",
       "6  3.066414  3.843732  \n",
       "8  0.702763  0.507720  "
      ]
     },
     "execution_count": 102,
     "metadata": {},
     "output_type": "execute_result"
    }
   ],
   "source": [
    "pd.set_option('display.max_columns', df_sns.shape[1]+1)\n",
    "\n",
    "df_sns_std=pd.DataFrame(np.empty((clusterCount,df_sns.shape[1])),index=list(range(clusterCount)),columns=df_sns.columns)\n",
    "df_sns_mean=pd.DataFrame(np.empty((clusterCount,df_sns.shape[1])),index=list(range(clusterCount)),columns=df_sns.columns)\n",
    "\n",
    "for i in range(clusterCount):\n",
    "    df_sns_std.loc[(i)]=df_sns[xclusters==i].std()\n",
    "    df_sns_mean.loc[(i)]=centers[i]\n",
    "\n",
    "df_sns_std.loc[goodClusters]"
   ]
  },
  {
   "cell_type": "code",
   "execution_count": 103,
   "metadata": {
    "collapsed": false,
    "deletable": true,
    "editable": true
   },
   "outputs": [
    {
     "data": {
      "text/html": [
       "<div>\n",
       "<table border=\"1\" class=\"dataframe\">\n",
       "  <thead>\n",
       "    <tr style=\"text-align: right;\">\n",
       "      <th></th>\n",
       "      <th>basketball</th>\n",
       "      <th>football</th>\n",
       "      <th>soccer</th>\n",
       "      <th>softball</th>\n",
       "      <th>volleyball</th>\n",
       "      <th>swimming</th>\n",
       "      <th>cheerleading</th>\n",
       "      <th>baseball</th>\n",
       "      <th>tennis</th>\n",
       "      <th>sports</th>\n",
       "      <th>cute</th>\n",
       "      <th>sex</th>\n",
       "      <th>sexy</th>\n",
       "      <th>hot</th>\n",
       "      <th>kissed</th>\n",
       "      <th>dance</th>\n",
       "      <th>band</th>\n",
       "      <th>marching</th>\n",
       "      <th>music</th>\n",
       "      <th>rock</th>\n",
       "      <th>god</th>\n",
       "      <th>church</th>\n",
       "      <th>jesus</th>\n",
       "      <th>bible</th>\n",
       "      <th>hair</th>\n",
       "      <th>dress</th>\n",
       "      <th>blonde</th>\n",
       "      <th>mall</th>\n",
       "      <th>shopping</th>\n",
       "      <th>clothes</th>\n",
       "      <th>hollister</th>\n",
       "      <th>abercrombie</th>\n",
       "      <th>die</th>\n",
       "      <th>death</th>\n",
       "      <th>drunk</th>\n",
       "      <th>drugs</th>\n",
       "    </tr>\n",
       "  </thead>\n",
       "  <tbody>\n",
       "    <tr>\n",
       "      <th>0</th>\n",
       "      <td>0.116740</td>\n",
       "      <td>0.213080</td>\n",
       "      <td>0.024864</td>\n",
       "      <td>0.005528</td>\n",
       "      <td>0.169300</td>\n",
       "      <td>0.247010</td>\n",
       "      <td>0.403273</td>\n",
       "      <td>0.013853</td>\n",
       "      <td>0.134810</td>\n",
       "      <td>0.086335</td>\n",
       "      <td>0.377437</td>\n",
       "      <td>0.034298</td>\n",
       "      <td>0.114896</td>\n",
       "      <td>0.403537</td>\n",
       "      <td>0.068588</td>\n",
       "      <td>0.234471</td>\n",
       "      <td>-0.097889</td>\n",
       "      <td>-0.108519</td>\n",
       "      <td>0.151831</td>\n",
       "      <td>0.070304</td>\n",
       "      <td>0.004299</td>\n",
       "      <td>-0.021513</td>\n",
       "      <td>-0.007957</td>\n",
       "      <td>-0.063861</td>\n",
       "      <td>0.451720</td>\n",
       "      <td>0.147138</td>\n",
       "      <td>0.065771</td>\n",
       "      <td>0.593936</td>\n",
       "      <td>0.801894</td>\n",
       "      <td>0.577580</td>\n",
       "      <td>4.163195</td>\n",
       "      <td>4.006453</td>\n",
       "      <td>0.051170</td>\n",
       "      <td>0.097967</td>\n",
       "      <td>0.057659</td>\n",
       "      <td>0.036948</td>\n",
       "    </tr>\n",
       "    <tr>\n",
       "      <th>2</th>\n",
       "      <td>-0.034077</td>\n",
       "      <td>0.058824</td>\n",
       "      <td>-0.102420</td>\n",
       "      <td>-0.073743</td>\n",
       "      <td>-0.042802</td>\n",
       "      <td>0.280429</td>\n",
       "      <td>0.390183</td>\n",
       "      <td>-0.082554</td>\n",
       "      <td>0.060102</td>\n",
       "      <td>-0.078251</td>\n",
       "      <td>0.807644</td>\n",
       "      <td>0.015119</td>\n",
       "      <td>0.387532</td>\n",
       "      <td>0.530802</td>\n",
       "      <td>-0.024131</td>\n",
       "      <td>0.680022</td>\n",
       "      <td>-0.037694</td>\n",
       "      <td>-0.124427</td>\n",
       "      <td>0.292373</td>\n",
       "      <td>0.160845</td>\n",
       "      <td>0.112826</td>\n",
       "      <td>0.355119</td>\n",
       "      <td>0.017373</td>\n",
       "      <td>-0.093411</td>\n",
       "      <td>0.327806</td>\n",
       "      <td>0.617941</td>\n",
       "      <td>0.019271</td>\n",
       "      <td>0.674750</td>\n",
       "      <td>0.883063</td>\n",
       "      <td>0.538216</td>\n",
       "      <td>-0.035230</td>\n",
       "      <td>-0.064849</td>\n",
       "      <td>0.059189</td>\n",
       "      <td>0.115641</td>\n",
       "      <td>0.050704</td>\n",
       "      <td>-0.052335</td>\n",
       "    </tr>\n",
       "    <tr>\n",
       "      <th>4</th>\n",
       "      <td>-0.118754</td>\n",
       "      <td>0.034967</td>\n",
       "      <td>-0.144153</td>\n",
       "      <td>-0.064914</td>\n",
       "      <td>-0.084256</td>\n",
       "      <td>0.046530</td>\n",
       "      <td>-0.114123</td>\n",
       "      <td>-0.111800</td>\n",
       "      <td>0.006214</td>\n",
       "      <td>-0.119042</td>\n",
       "      <td>-0.052226</td>\n",
       "      <td>-0.048900</td>\n",
       "      <td>-0.050522</td>\n",
       "      <td>-0.064131</td>\n",
       "      <td>-0.053601</td>\n",
       "      <td>0.025999</td>\n",
       "      <td>3.392017</td>\n",
       "      <td>4.821358</td>\n",
       "      <td>0.390087</td>\n",
       "      <td>0.150197</td>\n",
       "      <td>0.046155</td>\n",
       "      <td>0.018563</td>\n",
       "      <td>-0.014105</td>\n",
       "      <td>-0.058699</td>\n",
       "      <td>-0.057421</td>\n",
       "      <td>0.016781</td>\n",
       "      <td>-0.016658</td>\n",
       "      <td>-0.107715</td>\n",
       "      <td>-0.081069</td>\n",
       "      <td>-0.035282</td>\n",
       "      <td>-0.170755</td>\n",
       "      <td>-0.144924</td>\n",
       "      <td>-0.019742</td>\n",
       "      <td>0.021982</td>\n",
       "      <td>-0.086951</td>\n",
       "      <td>-0.082414</td>\n",
       "    </tr>\n",
       "    <tr>\n",
       "      <th>5</th>\n",
       "      <td>0.159083</td>\n",
       "      <td>0.180136</td>\n",
       "      <td>5.125949</td>\n",
       "      <td>-0.046973</td>\n",
       "      <td>0.051159</td>\n",
       "      <td>0.108333</td>\n",
       "      <td>-0.020810</td>\n",
       "      <td>0.007817</td>\n",
       "      <td>0.095355</td>\n",
       "      <td>0.301456</td>\n",
       "      <td>0.035987</td>\n",
       "      <td>-0.058304</td>\n",
       "      <td>-0.008656</td>\n",
       "      <td>0.072498</td>\n",
       "      <td>-0.059932</td>\n",
       "      <td>-0.028149</td>\n",
       "      <td>-0.045633</td>\n",
       "      <td>-0.090791</td>\n",
       "      <td>0.032927</td>\n",
       "      <td>0.108121</td>\n",
       "      <td>-0.003383</td>\n",
       "      <td>0.098048</td>\n",
       "      <td>-0.012748</td>\n",
       "      <td>-0.026118</td>\n",
       "      <td>0.008306</td>\n",
       "      <td>-0.001116</td>\n",
       "      <td>0.035870</td>\n",
       "      <td>0.045817</td>\n",
       "      <td>0.196910</td>\n",
       "      <td>-0.049721</td>\n",
       "      <td>-0.008669</td>\n",
       "      <td>-0.042648</td>\n",
       "      <td>-0.008520</td>\n",
       "      <td>-0.018610</td>\n",
       "      <td>-0.056523</td>\n",
       "      <td>-0.044499</td>\n",
       "    </tr>\n",
       "    <tr>\n",
       "      <th>6</th>\n",
       "      <td>0.345133</td>\n",
       "      <td>0.372466</td>\n",
       "      <td>0.034370</td>\n",
       "      <td>0.124399</td>\n",
       "      <td>0.096575</td>\n",
       "      <td>0.248507</td>\n",
       "      <td>0.164006</td>\n",
       "      <td>0.183450</td>\n",
       "      <td>0.132014</td>\n",
       "      <td>0.768827</td>\n",
       "      <td>0.481482</td>\n",
       "      <td>2.124752</td>\n",
       "      <td>0.516771</td>\n",
       "      <td>0.297850</td>\n",
       "      <td>3.210045</td>\n",
       "      <td>0.429844</td>\n",
       "      <td>0.390112</td>\n",
       "      <td>-0.021823</td>\n",
       "      <td>1.146619</td>\n",
       "      <td>1.182940</td>\n",
       "      <td>0.351741</td>\n",
       "      <td>0.173300</td>\n",
       "      <td>0.061890</td>\n",
       "      <td>0.037316</td>\n",
       "      <td>2.536086</td>\n",
       "      <td>0.519437</td>\n",
       "      <td>0.183840</td>\n",
       "      <td>0.603187</td>\n",
       "      <td>0.235515</td>\n",
       "      <td>1.197724</td>\n",
       "      <td>0.179098</td>\n",
       "      <td>0.269867</td>\n",
       "      <td>1.758304</td>\n",
       "      <td>0.939672</td>\n",
       "      <td>1.854958</td>\n",
       "      <td>2.949066</td>\n",
       "    </tr>\n",
       "    <tr>\n",
       "      <th>8</th>\n",
       "      <td>1.545153</td>\n",
       "      <td>1.124934</td>\n",
       "      <td>0.010324</td>\n",
       "      <td>1.469195</td>\n",
       "      <td>1.215275</td>\n",
       "      <td>0.092391</td>\n",
       "      <td>0.084734</td>\n",
       "      <td>1.426755</td>\n",
       "      <td>0.100420</td>\n",
       "      <td>1.068466</td>\n",
       "      <td>-0.016076</td>\n",
       "      <td>-0.026363</td>\n",
       "      <td>-0.005504</td>\n",
       "      <td>-0.000478</td>\n",
       "      <td>-0.067795</td>\n",
       "      <td>-0.017874</td>\n",
       "      <td>-0.074703</td>\n",
       "      <td>-0.101554</td>\n",
       "      <td>0.037226</td>\n",
       "      <td>0.160682</td>\n",
       "      <td>0.008970</td>\n",
       "      <td>0.115266</td>\n",
       "      <td>-0.004922</td>\n",
       "      <td>-0.071622</td>\n",
       "      <td>0.031218</td>\n",
       "      <td>-0.078196</td>\n",
       "      <td>0.041133</td>\n",
       "      <td>0.002949</td>\n",
       "      <td>0.038681</td>\n",
       "      <td>0.021789</td>\n",
       "      <td>-0.107963</td>\n",
       "      <td>-0.101149</td>\n",
       "      <td>-0.066476</td>\n",
       "      <td>-0.023524</td>\n",
       "      <td>-0.074634</td>\n",
       "      <td>-0.097616</td>\n",
       "    </tr>\n",
       "  </tbody>\n",
       "</table>\n",
       "</div>"
      ],
      "text/plain": [
       "   basketball  football    soccer  softball  volleyball  swimming  \\\n",
       "0    0.116740  0.213080  0.024864  0.005528    0.169300  0.247010   \n",
       "2   -0.034077  0.058824 -0.102420 -0.073743   -0.042802  0.280429   \n",
       "4   -0.118754  0.034967 -0.144153 -0.064914   -0.084256  0.046530   \n",
       "5    0.159083  0.180136  5.125949 -0.046973    0.051159  0.108333   \n",
       "6    0.345133  0.372466  0.034370  0.124399    0.096575  0.248507   \n",
       "8    1.545153  1.124934  0.010324  1.469195    1.215275  0.092391   \n",
       "\n",
       "   cheerleading  baseball    tennis    sports      cute       sex      sexy  \\\n",
       "0      0.403273  0.013853  0.134810  0.086335  0.377437  0.034298  0.114896   \n",
       "2      0.390183 -0.082554  0.060102 -0.078251  0.807644  0.015119  0.387532   \n",
       "4     -0.114123 -0.111800  0.006214 -0.119042 -0.052226 -0.048900 -0.050522   \n",
       "5     -0.020810  0.007817  0.095355  0.301456  0.035987 -0.058304 -0.008656   \n",
       "6      0.164006  0.183450  0.132014  0.768827  0.481482  2.124752  0.516771   \n",
       "8      0.084734  1.426755  0.100420  1.068466 -0.016076 -0.026363 -0.005504   \n",
       "\n",
       "        hot    kissed     dance      band  marching     music      rock  \\\n",
       "0  0.403537  0.068588  0.234471 -0.097889 -0.108519  0.151831  0.070304   \n",
       "2  0.530802 -0.024131  0.680022 -0.037694 -0.124427  0.292373  0.160845   \n",
       "4 -0.064131 -0.053601  0.025999  3.392017  4.821358  0.390087  0.150197   \n",
       "5  0.072498 -0.059932 -0.028149 -0.045633 -0.090791  0.032927  0.108121   \n",
       "6  0.297850  3.210045  0.429844  0.390112 -0.021823  1.146619  1.182940   \n",
       "8 -0.000478 -0.067795 -0.017874 -0.074703 -0.101554  0.037226  0.160682   \n",
       "\n",
       "        god    church     jesus     bible      hair     dress    blonde  \\\n",
       "0  0.004299 -0.021513 -0.007957 -0.063861  0.451720  0.147138  0.065771   \n",
       "2  0.112826  0.355119  0.017373 -0.093411  0.327806  0.617941  0.019271   \n",
       "4  0.046155  0.018563 -0.014105 -0.058699 -0.057421  0.016781 -0.016658   \n",
       "5 -0.003383  0.098048 -0.012748 -0.026118  0.008306 -0.001116  0.035870   \n",
       "6  0.351741  0.173300  0.061890  0.037316  2.536086  0.519437  0.183840   \n",
       "8  0.008970  0.115266 -0.004922 -0.071622  0.031218 -0.078196  0.041133   \n",
       "\n",
       "       mall  shopping   clothes  hollister  abercrombie       die     death  \\\n",
       "0  0.593936  0.801894  0.577580   4.163195     4.006453  0.051170  0.097967   \n",
       "2  0.674750  0.883063  0.538216  -0.035230    -0.064849  0.059189  0.115641   \n",
       "4 -0.107715 -0.081069 -0.035282  -0.170755    -0.144924 -0.019742  0.021982   \n",
       "5  0.045817  0.196910 -0.049721  -0.008669    -0.042648 -0.008520 -0.018610   \n",
       "6  0.603187  0.235515  1.197724   0.179098     0.269867  1.758304  0.939672   \n",
       "8  0.002949  0.038681  0.021789  -0.107963    -0.101149 -0.066476 -0.023524   \n",
       "\n",
       "      drunk     drugs  \n",
       "0  0.057659  0.036948  \n",
       "2  0.050704 -0.052335  \n",
       "4 -0.086951 -0.082414  \n",
       "5 -0.056523 -0.044499  \n",
       "6  1.854958  2.949066  \n",
       "8 -0.074634 -0.097616  "
      ]
     },
     "execution_count": 103,
     "metadata": {},
     "output_type": "execute_result"
    }
   ],
   "source": [
    "df_sns_mean.loc[goodClusters]"
   ]
  },
  {
   "cell_type": "markdown",
   "metadata": {
    "deletable": true,
    "editable": true
   },
   "source": [
    "Можно попробовать сделать следющие выводы:<br>\n",
    "0 кластер: очень любят употреблять слова abercrombie и hollister, наверное очень модные<br>\n",
    "2 кластер: среднестатистический человек<br>\n",
    "4 кластер: любят беседовать о марширующем оркестре<br>\n",
    "5 кластер: любят беседовать о футболе<br>\n",
    "6 кластер: любят употребялть слова \"kissed\", \"drugs\"<br>\n",
    "8 кластер: любят softball, basketball, baseball"
   ]
  },
  {
   "cell_type": "code",
   "execution_count": null,
   "metadata": {
    "collapsed": true
   },
   "outputs": [],
   "source": []
  }
 ],
 "metadata": {
  "anaconda-cloud": {},
  "kernelspec": {
   "display_name": "Python 3",
   "language": "python",
   "name": "python3"
  },
  "language_info": {
   "codemirror_mode": {
    "name": "ipython",
    "version": 3
   },
   "file_extension": ".py",
   "mimetype": "text/x-python",
   "name": "python",
   "nbconvert_exporter": "python",
   "pygments_lexer": "ipython3",
   "version": "3.5.1"
  },
  "nav_menu": {},
  "toc": {
   "navigate_menu": true,
   "number_sections": false,
   "sideBar": true,
   "threshold": 6,
   "toc_cell": false,
   "toc_section_display": "block",
   "toc_window_display": true
  }
 },
 "nbformat": 4,
 "nbformat_minor": 2
}
